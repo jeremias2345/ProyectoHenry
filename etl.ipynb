{
 "cells": [
  {
   "attachments": {},
   "cell_type": "markdown",
   "metadata": {},
   "source": [
    "### ETL"
   ]
  },
  {
   "attachments": {},
   "cell_type": "markdown",
   "metadata": {},
   "source": [
    "Comenzamos el proyecto descargando las librerias necesarias"
   ]
  },
  {
   "cell_type": "code",
   "execution_count": 2,
   "metadata": {},
   "outputs": [],
   "source": [
    "import numpy as np  \n",
    "import pandas as pd"
   ]
  },
  {
   "cell_type": "code",
   "execution_count": null,
   "metadata": {},
   "outputs": [],
   "source": [
    "data = pd.read_csv(\"movies_dataset.csv\")"
   ]
  },
  {
   "attachments": {},
   "cell_type": "markdown",
   "metadata": {},
   "source": [
    "Realizamos una breve exploracion del dataset. "
   ]
  },
  {
   "cell_type": "code",
   "execution_count": null,
   "metadata": {},
   "outputs": [],
   "source": [
    "data.info()"
   ]
  },
  {
   "attachments": {},
   "cell_type": "markdown",
   "metadata": {},
   "source": [
    "Para ver el tipos de datos y cantidad de nulos por columna,ademas vemos los nulos totales del dataset"
   ]
  },
  {
   "cell_type": "code",
   "execution_count": null,
   "metadata": {},
   "outputs": [],
   "source": [
    "data.isna().sum()"
   ]
  },
  {
   "attachments": {},
   "cell_type": "markdown",
   "metadata": {},
   "source": [
    "Vemos los primeros 5 registros."
   ]
  },
  {
   "cell_type": "code",
   "execution_count": null,
   "metadata": {},
   "outputs": [],
   "source": [
    "data.head()\n"
   ]
  },
  {
   "attachments": {},
   "cell_type": "markdown",
   "metadata": {},
   "source": [
    "Notamos que en algunos de sus campos como belongs to collection,genres,spoken_languages,production companies los valores son de tipo diccionarios y son listas de diccionarios por lo que vamos a generar funciones para posteriormente desaplanar los datos."
   ]
  },
  {
   "cell_type": "code",
   "execution_count": null,
   "metadata": {},
   "outputs": [],
   "source": [
    "data[\"belongs_to_collection\"][0]"
   ]
  },
  {
   "cell_type": "code",
   "execution_count": null,
   "metadata": {},
   "outputs": [],
   "source": [
    "type(data[\"belongs_to_collection\"][0])"
   ]
  },
  {
   "attachments": {},
   "cell_type": "markdown",
   "metadata": {},
   "source": [
    "Al ser un string el tipo de dato utilizaremos eval."
   ]
  },
  {
   "cell_type": "code",
   "execution_count": null,
   "metadata": {},
   "outputs": [],
   "source": [
    "help(eval)"
   ]
  },
  {
   "cell_type": "code",
   "execution_count": 2,
   "metadata": {},
   "outputs": [],
   "source": [
    "#La funcion recibe como parametro un string con un diccionario adentro y retorna un string con el valor de la clave \"name\" en caso de ser posible y en caso de que no retorna un valor NaN\n",
    "def obtener_valor(diccionario):\n",
    "    try:\n",
    "        elemento = eval(diccionario)\n",
    "        valor = elemento[\"name\"]\n",
    "        return valor\n",
    "    except:\n",
    "        return np.NaN\n",
    "    "
   ]
  },
  {
   "cell_type": "code",
   "execution_count": 128,
   "metadata": {},
   "outputs": [],
   "source": [
    "#La funcion recibe como parametro una lista de diccionarios y retorna una lista con los valores de la clave \"name\" de cada diccionario\n",
    "def convertir_a_lista(lista_diccionario):\n",
    "    lista_retornar = []\n",
    "    if eval(lista_diccionario):\n",
    "        lista = (eval(lista_diccionario))\n",
    "        for elemento in lista:\n",
    "            try:\n",
    "                lista_retornar.append(elemento[\"name\"])\n",
    "            except:\n",
    "                pass\n",
    "    return lista_retornar\n",
    "    "
   ]
  },
  {
   "attachments": {},
   "cell_type": "markdown",
   "metadata": {},
   "source": [
    "Buscamos registros duplicados."
   ]
  },
  {
   "attachments": {},
   "cell_type": "markdown",
   "metadata": {},
   "source": [
    "Explorando los datos vimos que las peliculas tienen un id unico,pero hay 30 registros duplicados por la columna id,pudiendo haber peliculas distintas que compartan id exploramos esos registros y notamos que de los cuales 13 son perfectamente registros duplicados y los otros tienen valores inconsistentes en la columna popularity tanto por su tipo dato como pors valores disntitos.Pense en la posibilidad de que sean relanzamientos pero queda descartado a tener la misma fecha en release_date.\n"
   ]
  },
  {
   "cell_type": "code",
   "execution_count": null,
   "metadata": {},
   "outputs": [],
   "source": [
    "data.duplicated().sum()"
   ]
  },
  {
   "cell_type": "code",
   "execution_count": null,
   "metadata": {},
   "outputs": [],
   "source": [
    "data[\"id\"].duplicated().sum()\n"
   ]
  },
  {
   "cell_type": "code",
   "execution_count": null,
   "metadata": {},
   "outputs": [],
   "source": [
    "data[data[\"id\"] == \"132641\"]"
   ]
  },
  {
   "cell_type": "code",
   "execution_count": null,
   "metadata": {},
   "outputs": [],
   "source": [
    "print(\"Valores diferentes para pelicula Tsuma\" ,data.loc[838][\"popularity\"],\"≠\",data.loc[30001][\"popularity\"])\n"
   ]
  },
  {
   "attachments": {},
   "cell_type": "markdown",
   "metadata": {},
   "source": [
    "Los registros duplicados los eliminamos para no tener registros redundantes,en este caso aunque sean pocos aun puede sesgar los resultados de nuestros analisis"
   ]
  },
  {
   "cell_type": "code",
   "execution_count": null,
   "metadata": {},
   "outputs": [],
   "source": [
    "data.drop_duplicates(subset= [\"id\"], inplace = True, keep = \"first\")"
   ]
  },
  {
   "attachments": {},
   "cell_type": "markdown",
   "metadata": {},
   "source": [
    "Verificamos la calidad de los datos en la columna id"
   ]
  },
  {
   "cell_type": "code",
   "execution_count": 1,
   "metadata": {},
   "outputs": [
    {
     "ename": "NameError",
     "evalue": "name 'data' is not defined",
     "output_type": "error",
     "traceback": [
      "\u001b[1;31m---------------------------------------------------------------------------\u001b[0m",
      "\u001b[1;31mNameError\u001b[0m                                 Traceback (most recent call last)",
      "Cell \u001b[1;32mIn[1], line 1\u001b[0m\n\u001b[1;32m----> 1\u001b[0m \u001b[39mfor\u001b[39;00m i,elemento \u001b[39min\u001b[39;00m \u001b[39menumerate\u001b[39m(data[\u001b[39m\"\u001b[39m\u001b[39mid\u001b[39m\u001b[39m\"\u001b[39m]):\n\u001b[0;32m      2\u001b[0m     \u001b[39mif\u001b[39;00m elemento\u001b[39m.\u001b[39misdigit() \u001b[39m==\u001b[39m \u001b[39mFalse\u001b[39;00m:\n\u001b[0;32m      3\u001b[0m         \u001b[39mprint\u001b[39m(i,elemento)\n",
      "\u001b[1;31mNameError\u001b[0m: name 'data' is not defined"
     ]
    }
   ],
   "source": [
    "for i,elemento in enumerate(data[\"id\"]):\n",
    "    if elemento.isdigit() == False:\n",
    "        print(i,elemento)"
   ]
  },
  {
   "attachments": {},
   "cell_type": "markdown",
   "metadata": {},
   "source": [
    "Vimos esos registros y notamos que toda su informacion es erronea por lo que decidimos eliminarlos"
   ]
  },
  {
   "cell_type": "code",
   "execution_count": null,
   "metadata": {},
   "outputs": [],
   "source": [
    "data.iloc[19722]"
   ]
  },
  {
   "cell_type": "code",
   "execution_count": null,
   "metadata": {},
   "outputs": [],
   "source": [
    "data.iloc[[19722,29483,35564]]"
   ]
  },
  {
   "cell_type": "code",
   "execution_count": null,
   "metadata": {},
   "outputs": [],
   "source": [
    "data.drop(data.index[[19722,29483,35564]], inplace= True)"
   ]
  },
  {
   "attachments": {},
   "cell_type": "markdown",
   "metadata": {},
   "source": [
    "Al eliminar registros las etiquetas de los registros y su indice  difieren por lo que reseteo el indice ya que trabajare con estos para localizar registros por etiqueta gracias a loc."
   ]
  },
  {
   "cell_type": "code",
   "execution_count": null,
   "metadata": {},
   "outputs": [],
   "source": [
    "data.reset_index(drop=True,inplace=True)"
   ]
  },
  {
   "attachments": {},
   "cell_type": "markdown",
   "metadata": {},
   "source": [
    "Para seguir con el proceso debemos agregar datos.Cargamos un csv donde hay datos sobre el staff de las peliculas y sus id,vamos a separar los nombres de actores y directores que es los datos que nos interesan y luego haremos un merge."
   ]
  },
  {
   "cell_type": "code",
   "execution_count": 124,
   "metadata": {},
   "outputs": [],
   "source": [
    "data_staff = pd.read_csv(\"credits.csv\")"
   ]
  },
  {
   "attachments": {},
   "cell_type": "markdown",
   "metadata": {},
   "source": [
    "Vemos los primeros 5 registros"
   ]
  },
  {
   "cell_type": "code",
   "execution_count": 125,
   "metadata": {},
   "outputs": [
    {
     "data": {
      "text/html": [
       "<div>\n",
       "<style scoped>\n",
       "    .dataframe tbody tr th:only-of-type {\n",
       "        vertical-align: middle;\n",
       "    }\n",
       "\n",
       "    .dataframe tbody tr th {\n",
       "        vertical-align: top;\n",
       "    }\n",
       "\n",
       "    .dataframe thead th {\n",
       "        text-align: right;\n",
       "    }\n",
       "</style>\n",
       "<table border=\"1\" class=\"dataframe\">\n",
       "  <thead>\n",
       "    <tr style=\"text-align: right;\">\n",
       "      <th></th>\n",
       "      <th>cast</th>\n",
       "      <th>crew</th>\n",
       "      <th>id</th>\n",
       "    </tr>\n",
       "  </thead>\n",
       "  <tbody>\n",
       "    <tr>\n",
       "      <th>0</th>\n",
       "      <td>[{'cast_id': 14, 'character': 'Woody (voice)',...</td>\n",
       "      <td>[{'credit_id': '52fe4284c3a36847f8024f49', 'de...</td>\n",
       "      <td>862</td>\n",
       "    </tr>\n",
       "    <tr>\n",
       "      <th>1</th>\n",
       "      <td>[{'cast_id': 1, 'character': 'Alan Parrish', '...</td>\n",
       "      <td>[{'credit_id': '52fe44bfc3a36847f80a7cd1', 'de...</td>\n",
       "      <td>8844</td>\n",
       "    </tr>\n",
       "    <tr>\n",
       "      <th>2</th>\n",
       "      <td>[{'cast_id': 2, 'character': 'Max Goldman', 'c...</td>\n",
       "      <td>[{'credit_id': '52fe466a9251416c75077a89', 'de...</td>\n",
       "      <td>15602</td>\n",
       "    </tr>\n",
       "    <tr>\n",
       "      <th>3</th>\n",
       "      <td>[{'cast_id': 1, 'character': \"Savannah 'Vannah...</td>\n",
       "      <td>[{'credit_id': '52fe44779251416c91011acb', 'de...</td>\n",
       "      <td>31357</td>\n",
       "    </tr>\n",
       "    <tr>\n",
       "      <th>4</th>\n",
       "      <td>[{'cast_id': 1, 'character': 'George Banks', '...</td>\n",
       "      <td>[{'credit_id': '52fe44959251416c75039ed7', 'de...</td>\n",
       "      <td>11862</td>\n",
       "    </tr>\n",
       "  </tbody>\n",
       "</table>\n",
       "</div>"
      ],
      "text/plain": [
       "                                                cast  \\\n",
       "0  [{'cast_id': 14, 'character': 'Woody (voice)',...   \n",
       "1  [{'cast_id': 1, 'character': 'Alan Parrish', '...   \n",
       "2  [{'cast_id': 2, 'character': 'Max Goldman', 'c...   \n",
       "3  [{'cast_id': 1, 'character': \"Savannah 'Vannah...   \n",
       "4  [{'cast_id': 1, 'character': 'George Banks', '...   \n",
       "\n",
       "                                                crew     id  \n",
       "0  [{'credit_id': '52fe4284c3a36847f8024f49', 'de...    862  \n",
       "1  [{'credit_id': '52fe44bfc3a36847f80a7cd1', 'de...   8844  \n",
       "2  [{'credit_id': '52fe466a9251416c75077a89', 'de...  15602  \n",
       "3  [{'credit_id': '52fe44779251416c91011acb', 'de...  31357  \n",
       "4  [{'credit_id': '52fe44959251416c75039ed7', 'de...  11862  "
      ]
     },
     "execution_count": 125,
     "metadata": {},
     "output_type": "execute_result"
    }
   ],
   "source": [
    "data_staff.head()"
   ]
  },
  {
   "attachments": {},
   "cell_type": "markdown",
   "metadata": {},
   "source": [
    "Desaplanamos y creamos columnas con los datos que necesitamos."
   ]
  },
  {
   "cell_type": "code",
   "execution_count": 126,
   "metadata": {},
   "outputs": [
    {
     "data": {
      "text/plain": [
       "\"[{'cast_id': 14, 'character': 'Woody (voice)', 'credit_id': '52fe4284c3a36847f8024f95', 'gender': 2, 'id': 31, 'name': 'Tom Hanks', 'order': 0, 'profile_path': '/pQFoyx7rp09CJTAb932F2g8Nlho.jpg'}, {'cast_id': 15, 'character': 'Buzz Lightyear (voice)', 'credit_id': '52fe4284c3a36847f8024f99', 'gender': 2, 'id': 12898, 'name': 'Tim Allen', 'order': 1, 'profile_path': '/uX2xVf6pMmPepxnvFWyBtjexzgY.jpg'}, {'cast_id': 16, 'character': 'Mr. Potato Head (voice)', 'credit_id': '52fe4284c3a36847f8024f9d', 'gender': 2, 'id': 7167, 'name': 'Don Rickles', 'order': 2, 'profile_path': '/h5BcaDMPRVLHLDzbQavec4xfSdt.jpg'}, {'cast_id': 17, 'character': 'Slinky Dog (voice)', 'credit_id': '52fe4284c3a36847f8024fa1', 'gender': 2, 'id': 12899, 'name': 'Jim Varney', 'order': 3, 'profile_path': '/eIo2jVVXYgjDtaHoF19Ll9vtW7h.jpg'}, {'cast_id': 18, 'character': 'Rex (voice)', 'credit_id': '52fe4284c3a36847f8024fa5', 'gender': 2, 'id': 12900, 'name': 'Wallace Shawn', 'order': 4, 'profile_path': '/oGE6JqPP2xH4tNORKNqxbNPYi7u.jpg'}, {'cast_id': 19, 'character': 'Hamm (voice)', 'credit_id': '52fe4284c3a36847f8024fa9', 'gender': 2, 'id': 7907, 'name': 'John Ratzenberger', 'order': 5, 'profile_path': '/yGechiKWL6TJDfVE2KPSJYqdMsY.jpg'}, {'cast_id': 20, 'character': 'Bo Peep (voice)', 'credit_id': '52fe4284c3a36847f8024fad', 'gender': 1, 'id': 8873, 'name': 'Annie Potts', 'order': 6, 'profile_path': '/eryXT84RL41jHSJcMy4kS3u9y6w.jpg'}, {'cast_id': 26, 'character': 'Andy (voice)', 'credit_id': '52fe4284c3a36847f8024fc1', 'gender': 0, 'id': 1116442, 'name': 'John Morris', 'order': 7, 'profile_path': '/vYGyvK4LzeaUCoNSHtsuqJUY15M.jpg'}, {'cast_id': 22, 'character': 'Sid (voice)', 'credit_id': '52fe4284c3a36847f8024fb1', 'gender': 2, 'id': 12901, 'name': 'Erik von Detten', 'order': 8, 'profile_path': '/twnF1ZaJ1FUNUuo6xLXwcxjayBE.jpg'}, {'cast_id': 23, 'character': 'Mrs. Davis (voice)', 'credit_id': '52fe4284c3a36847f8024fb5', 'gender': 1, 'id': 12133, 'name': 'Laurie Metcalf', 'order': 9, 'profile_path': '/unMMIT60eoBM2sN2nyR7EZ2BvvD.jpg'}, {'cast_id': 24, 'character': 'Sergeant (voice)', 'credit_id': '52fe4284c3a36847f8024fb9', 'gender': 2, 'id': 8655, 'name': 'R. Lee Ermey', 'order': 10, 'profile_path': '/r8GBqFBjypLUP9VVqDqfZ7wYbSs.jpg'}, {'cast_id': 25, 'character': 'Hannah (voice)', 'credit_id': '52fe4284c3a36847f8024fbd', 'gender': 1, 'id': 12903, 'name': 'Sarah Freeman', 'order': 11, 'profile_path': None}, {'cast_id': 27, 'character': 'TV Announcer (voice)', 'credit_id': '52fe4284c3a36847f8024fc5', 'gender': 2, 'id': 37221, 'name': 'Penn Jillette', 'order': 12, 'profile_path': '/zmAaXUdx12NRsssgHbk1T31j2x9.jpg'}]\""
      ]
     },
     "execution_count": 126,
     "metadata": {},
     "output_type": "execute_result"
    }
   ],
   "source": [
    "data_staff[\"cast\"][0]"
   ]
  },
  {
   "attachments": {},
   "cell_type": "markdown",
   "metadata": {},
   "source": [
    "Vemos que es una lista de diccionarios donde cada diccionario representa una persona del equipo.Vamos a crear una columna con los nombres de los acotres"
   ]
  },
  {
   "cell_type": "code",
   "execution_count": 129,
   "metadata": {},
   "outputs": [],
   "source": [
    "data_staff[\"nombres_actores\"] = data_staff[\"cast\"].apply(convertir_a_lista)"
   ]
  },
  {
   "cell_type": "code",
   "execution_count": 131,
   "metadata": {},
   "outputs": [
    {
     "data": {
      "text/plain": [
       "['Tom Hanks',\n",
       " 'Tim Allen',\n",
       " 'Don Rickles',\n",
       " 'Jim Varney',\n",
       " 'Wallace Shawn',\n",
       " 'John Ratzenberger',\n",
       " 'Annie Potts',\n",
       " 'John Morris',\n",
       " 'Erik von Detten',\n",
       " 'Laurie Metcalf',\n",
       " 'R. Lee Ermey',\n",
       " 'Sarah Freeman',\n",
       " 'Penn Jillette']"
      ]
     },
     "execution_count": 131,
     "metadata": {},
     "output_type": "execute_result"
    }
   ],
   "source": [
    "data_staff[\"nombres_actores\"][0]"
   ]
  },
  {
   "cell_type": "code",
   "execution_count": null,
   "metadata": {},
   "outputs": [],
   "source": [
    "data_staff[\"nombres_actores\"][10010]"
   ]
  },
  {
   "attachments": {},
   "cell_type": "markdown",
   "metadata": {},
   "source": [
    "eliminamos la columna cast"
   ]
  },
  {
   "cell_type": "code",
   "execution_count": null,
   "metadata": {},
   "outputs": [],
   "source": [
    "data_staff.drop( columns = [\"cast\"], inplace=True)"
   ]
  },
  {
   "attachments": {},
   "cell_type": "markdown",
   "metadata": {},
   "source": [
    "Ahora desaplanamos la columna crew para buscar a los directores"
   ]
  },
  {
   "cell_type": "code",
   "execution_count": null,
   "metadata": {},
   "outputs": [],
   "source": [
    "def convertir_a_lista_director(lista_diccionario):\n",
    "    lista_retornar = []\n",
    "    if eval(lista_diccionario):\n",
    "        lista = (eval(lista_diccionario))\n",
    "        for elemento in lista:\n",
    "            try:\n",
    "                if elemento[\"job\"] == \"Director\":\n",
    "                    lista_retornar.append(elemento[\"name\"])\n",
    "            except:\n",
    "                pass\n",
    "    return lista_retornar\n",
    "    "
   ]
  },
  {
   "cell_type": "code",
   "execution_count": null,
   "metadata": {},
   "outputs": [],
   "source": [
    "data_staff[\"nombres_directores\"] = data_staff[\"crew\"].apply(convertir_a_lista_director)"
   ]
  },
  {
   "cell_type": "code",
   "execution_count": null,
   "metadata": {},
   "outputs": [],
   "source": [
    "data_staff[\"nombres_directores\"].tail()"
   ]
  },
  {
   "cell_type": "code",
   "execution_count": null,
   "metadata": {},
   "outputs": [],
   "source": [
    "data_staff.drop( columns = [\"crew\"], inplace=True)"
   ]
  },
  {
   "attachments": {},
   "cell_type": "markdown",
   "metadata": {},
   "source": [
    "Eliminamos los registros con id repetidos.Y verificamos que sus valores sean consistentes."
   ]
  },
  {
   "cell_type": "code",
   "execution_count": null,
   "metadata": {},
   "outputs": [],
   "source": [
    "data_staff[\"id\"]"
   ]
  },
  {
   "cell_type": "code",
   "execution_count": null,
   "metadata": {},
   "outputs": [],
   "source": [
    "data_staff.drop_duplicates(subset = [\"id\"], inplace = True, keep = \"first\")"
   ]
  },
  {
   "cell_type": "code",
   "execution_count": null,
   "metadata": {},
   "outputs": [],
   "source": [
    "calidad_id = data_staff['id'].apply(lambda x: isinstance(x, int)).all()\n",
    "calidad_id"
   ]
  },
  {
   "attachments": {},
   "cell_type": "markdown",
   "metadata": {},
   "source": [
    "Cambiamos el tipo de datos id a str"
   ]
  },
  {
   "cell_type": "code",
   "execution_count": null,
   "metadata": {},
   "outputs": [],
   "source": [
    "data_staff[\"id\"] = data_staff[\"id\"].astype(str)"
   ]
  },
  {
   "attachments": {},
   "cell_type": "markdown",
   "metadata": {},
   "source": [
    "Generamos un merge,lo hacemos por izquierda con how = \"left\" para que nos mantenga todos los registros de movies_dataset y agrege las columnas para actores y directores desde credits donde haya una coincidencia en los id y los demas valores de las columnas se rellenan con NaN."
   ]
  },
  {
   "cell_type": "code",
   "execution_count": null,
   "metadata": {},
   "outputs": [],
   "source": [
    "data_completa = pd.merge(data,data_staff, how=\"left\")"
   ]
  },
  {
   "cell_type": "code",
   "execution_count": null,
   "metadata": {},
   "outputs": [],
   "source": [
    "data_completa.iloc[1039]"
   ]
  },
  {
   "cell_type": "code",
   "execution_count": null,
   "metadata": {},
   "outputs": [],
   "source": [
    "data_completa.shape"
   ]
  },
  {
   "cell_type": "code",
   "execution_count": null,
   "metadata": {},
   "outputs": [],
   "source": [
    "data_completa[data_completa[\"nombres_actores\"].isna()]"
   ]
  },
  {
   "attachments": {},
   "cell_type": "markdown",
   "metadata": {},
   "source": [
    "Vemos que el registro tiene demasiados datos faltantes y tomamos la decision de eliminarlo"
   ]
  },
  {
   "cell_type": "code",
   "execution_count": null,
   "metadata": {},
   "outputs": [],
   "source": [
    "data_completa.drop([42853],inplace = True)"
   ]
  },
  {
   "attachments": {},
   "cell_type": "markdown",
   "metadata": {},
   "source": [
    "Ahora con la data completa la guardamos como un archivo csv"
   ]
  },
  {
   "cell_type": "code",
   "execution_count": null,
   "metadata": {},
   "outputs": [],
   "source": [
    "data_completa.to_csv(\"data_completa.csv\", index = False, sep= \",\")"
   ]
  },
  {
   "cell_type": "code",
   "execution_count": 3,
   "metadata": {},
   "outputs": [],
   "source": [
    "data_completa = pd.read_csv(\"data_completa.csv\")"
   ]
  },
  {
   "cell_type": "code",
   "execution_count": 5,
   "metadata": {},
   "outputs": [
    {
     "data": {
      "text/plain": [
       "(45432, 26)"
      ]
     },
     "execution_count": 5,
     "metadata": {},
     "output_type": "execute_result"
    }
   ],
   "source": [
    "data_completa.shape"
   ]
  },
  {
   "cell_type": "code",
   "execution_count": 6,
   "metadata": {},
   "outputs": [
    {
     "data": {
      "text/plain": [
       "Index(['adult', 'belongs_to_collection', 'budget', 'genres', 'homepage', 'id',\n",
       "       'imdb_id', 'original_language', 'original_title', 'overview',\n",
       "       'popularity', 'poster_path', 'production_companies',\n",
       "       'production_countries', 'release_date', 'revenue', 'runtime',\n",
       "       'spoken_languages', 'status', 'tagline', 'title', 'video',\n",
       "       'vote_average', 'vote_count', 'nombres_actores', 'nombres_directores'],\n",
       "      dtype='object')"
      ]
     },
     "execution_count": 6,
     "metadata": {},
     "output_type": "execute_result"
    }
   ],
   "source": [
    "data_completa.columns"
   ]
  },
  {
   "attachments": {},
   "cell_type": "markdown",
   "metadata": {},
   "source": [
    "Eliminamos las columnas que no serán utilizadas, video,imdb_id,adult,original_title,poster_path y homepage"
   ]
  },
  {
   "cell_type": "code",
   "execution_count": 24,
   "metadata": {},
   "outputs": [],
   "source": [
    "columnas_a_eliminar = [\"adult\",\"imdb_id\",\"video\",\"original_title\",\"poster_path\",\"homepage\"]\n",
    "data_completa = data_completa.drop(columnas_a_eliminar,axis = 1)"
   ]
  },
  {
   "attachments": {},
   "cell_type": "markdown",
   "metadata": {},
   "source": [
    "Los valores nulos de los campos revenue, budget deben ser rellenados por el número 0."
   ]
  },
  {
   "cell_type": "code",
   "execution_count": 25,
   "metadata": {},
   "outputs": [],
   "source": [
    "data_completa[\"revenue\"].fillna(0,inplace=True)\n",
    "data_completa[\"budget\"].fillna(0,inplace=True)"
   ]
  },
  {
   "attachments": {},
   "cell_type": "markdown",
   "metadata": {},
   "source": [
    "Crear la columna con el retorno de inversión, llamada return con los campos revenue y budget, dividiendo estas dos últimas revenue / budget, cuando no hay datos disponibles para calcularlo, deberá tomar el valor 0.Para esto exploramos las columnas revenue y budget.Primero vemos la calidad de los datos en la columna budget."
   ]
  },
  {
   "cell_type": "code",
   "execution_count": 28,
   "metadata": {},
   "outputs": [
    {
     "data": {
      "text/plain": [
       "numpy.int64"
      ]
     },
     "execution_count": 28,
     "metadata": {},
     "output_type": "execute_result"
    }
   ],
   "source": [
    "type(data_completa[\"budget\"][0])"
   ]
  },
  {
   "cell_type": "code",
   "execution_count": 31,
   "metadata": {},
   "outputs": [
    {
     "data": {
      "text/plain": [
       "True"
      ]
     },
     "execution_count": 31,
     "metadata": {},
     "output_type": "execute_result"
    }
   ],
   "source": [
    "enteros = data_completa['budget'].apply(lambda x: isinstance(x,int)).all()\n",
    "enteros"
   ]
  },
  {
   "attachments": {},
   "cell_type": "markdown",
   "metadata": {},
   "source": [
    "Verifico que los valores de la columna revenue sean consistentes"
   ]
  },
  {
   "cell_type": "code",
   "execution_count": 32,
   "metadata": {},
   "outputs": [
    {
     "data": {
      "text/plain": [
       "True"
      ]
     },
     "execution_count": 32,
     "metadata": {},
     "output_type": "execute_result"
    }
   ],
   "source": [
    "flotantes = data_completa['revenue'].apply(lambda x: isinstance(x, float)).all()\n",
    "flotantes"
   ]
  },
  {
   "attachments": {},
   "cell_type": "markdown",
   "metadata": {},
   "source": [
    "Creamos la columna return"
   ]
  },
  {
   "cell_type": "code",
   "execution_count": 33,
   "metadata": {},
   "outputs": [],
   "source": [
    "#creamos la columna aplicando una funcion anonima para cada registro que tomara el valor de la division si estan los datos y 0 en caso de que no lo esten\n",
    "data_completa[\"return\"] = data_completa.apply(lambda row: row[\"revenue\"] / row[\"budget\"] if row[\"budget\"] != 0 else 0, axis=1)"
   ]
  },
  {
   "cell_type": "code",
   "execution_count": 34,
   "metadata": {},
   "outputs": [
    {
     "data": {
      "text/html": [
       "<div>\n",
       "<style scoped>\n",
       "    .dataframe tbody tr th:only-of-type {\n",
       "        vertical-align: middle;\n",
       "    }\n",
       "\n",
       "    .dataframe tbody tr th {\n",
       "        vertical-align: top;\n",
       "    }\n",
       "\n",
       "    .dataframe thead th {\n",
       "        text-align: right;\n",
       "    }\n",
       "</style>\n",
       "<table border=\"1\" class=\"dataframe\">\n",
       "  <thead>\n",
       "    <tr style=\"text-align: right;\">\n",
       "      <th></th>\n",
       "      <th>revenue</th>\n",
       "      <th>budget</th>\n",
       "      <th>return</th>\n",
       "    </tr>\n",
       "  </thead>\n",
       "  <tbody>\n",
       "    <tr>\n",
       "      <th>0</th>\n",
       "      <td>373554033.0</td>\n",
       "      <td>30000000</td>\n",
       "      <td>12.451801</td>\n",
       "    </tr>\n",
       "    <tr>\n",
       "      <th>1</th>\n",
       "      <td>262797249.0</td>\n",
       "      <td>65000000</td>\n",
       "      <td>4.043035</td>\n",
       "    </tr>\n",
       "    <tr>\n",
       "      <th>2</th>\n",
       "      <td>0.0</td>\n",
       "      <td>0</td>\n",
       "      <td>0.000000</td>\n",
       "    </tr>\n",
       "    <tr>\n",
       "      <th>3</th>\n",
       "      <td>81452156.0</td>\n",
       "      <td>16000000</td>\n",
       "      <td>5.090760</td>\n",
       "    </tr>\n",
       "    <tr>\n",
       "      <th>4</th>\n",
       "      <td>76578911.0</td>\n",
       "      <td>0</td>\n",
       "      <td>0.000000</td>\n",
       "    </tr>\n",
       "    <tr>\n",
       "      <th>...</th>\n",
       "      <td>...</td>\n",
       "      <td>...</td>\n",
       "      <td>...</td>\n",
       "    </tr>\n",
       "    <tr>\n",
       "      <th>45427</th>\n",
       "      <td>0.0</td>\n",
       "      <td>0</td>\n",
       "      <td>0.000000</td>\n",
       "    </tr>\n",
       "    <tr>\n",
       "      <th>45428</th>\n",
       "      <td>0.0</td>\n",
       "      <td>0</td>\n",
       "      <td>0.000000</td>\n",
       "    </tr>\n",
       "    <tr>\n",
       "      <th>45429</th>\n",
       "      <td>0.0</td>\n",
       "      <td>0</td>\n",
       "      <td>0.000000</td>\n",
       "    </tr>\n",
       "    <tr>\n",
       "      <th>45430</th>\n",
       "      <td>0.0</td>\n",
       "      <td>0</td>\n",
       "      <td>0.000000</td>\n",
       "    </tr>\n",
       "    <tr>\n",
       "      <th>45431</th>\n",
       "      <td>0.0</td>\n",
       "      <td>0</td>\n",
       "      <td>0.000000</td>\n",
       "    </tr>\n",
       "  </tbody>\n",
       "</table>\n",
       "<p>45432 rows × 3 columns</p>\n",
       "</div>"
      ],
      "text/plain": [
       "           revenue    budget     return\n",
       "0      373554033.0  30000000  12.451801\n",
       "1      262797249.0  65000000   4.043035\n",
       "2              0.0         0   0.000000\n",
       "3       81452156.0  16000000   5.090760\n",
       "4       76578911.0         0   0.000000\n",
       "...            ...       ...        ...\n",
       "45427          0.0         0   0.000000\n",
       "45428          0.0         0   0.000000\n",
       "45429          0.0         0   0.000000\n",
       "45430          0.0         0   0.000000\n",
       "45431          0.0         0   0.000000\n",
       "\n",
       "[45432 rows x 3 columns]"
      ]
     },
     "execution_count": 34,
     "metadata": {},
     "output_type": "execute_result"
    }
   ],
   "source": [
    "data_completa[[\"revenue\",\"budget\",\"return\"]]"
   ]
  },
  {
   "attachments": {},
   "cell_type": "markdown",
   "metadata": {},
   "source": [
    "Los valores nulos del campo release date deben eliminarse.Para esto exploramos la columna y buscamos inconsistencia en los datos"
   ]
  },
  {
   "cell_type": "code",
   "execution_count": 35,
   "metadata": {},
   "outputs": [],
   "source": [
    "for i,elemento in enumerate(data_completa[\"release_date\"]):\n",
    "    if type(elemento) != str:\n",
    "        continue\n",
    "    if len(elemento) != 10:\n",
    "        print(i,elemento)"
   ]
  },
  {
   "attachments": {},
   "cell_type": "markdown",
   "metadata": {},
   "source": [
    "Vemos los valores faltantes"
   ]
  },
  {
   "cell_type": "code",
   "execution_count": 36,
   "metadata": {},
   "outputs": [
    {
     "data": {
      "text/html": [
       "<div>\n",
       "<style scoped>\n",
       "    .dataframe tbody tr th:only-of-type {\n",
       "        vertical-align: middle;\n",
       "    }\n",
       "\n",
       "    .dataframe tbody tr th {\n",
       "        vertical-align: top;\n",
       "    }\n",
       "\n",
       "    .dataframe thead th {\n",
       "        text-align: right;\n",
       "    }\n",
       "</style>\n",
       "<table border=\"1\" class=\"dataframe\">\n",
       "  <thead>\n",
       "    <tr style=\"text-align: right;\">\n",
       "      <th></th>\n",
       "      <th>belongs_to_collection</th>\n",
       "      <th>budget</th>\n",
       "      <th>genres</th>\n",
       "      <th>id</th>\n",
       "      <th>original_language</th>\n",
       "      <th>overview</th>\n",
       "      <th>popularity</th>\n",
       "      <th>production_companies</th>\n",
       "      <th>production_countries</th>\n",
       "      <th>release_date</th>\n",
       "      <th>...</th>\n",
       "      <th>runtime</th>\n",
       "      <th>spoken_languages</th>\n",
       "      <th>status</th>\n",
       "      <th>tagline</th>\n",
       "      <th>title</th>\n",
       "      <th>vote_average</th>\n",
       "      <th>vote_count</th>\n",
       "      <th>nombres_actores</th>\n",
       "      <th>nombres_directores</th>\n",
       "      <th>return</th>\n",
       "    </tr>\n",
       "  </thead>\n",
       "  <tbody>\n",
       "    <tr>\n",
       "      <th>711</th>\n",
       "      <td>NaN</td>\n",
       "      <td>0</td>\n",
       "      <td>[]</td>\n",
       "      <td>365371</td>\n",
       "      <td>en</td>\n",
       "      <td>Seven New Zealand women speak about their live...</td>\n",
       "      <td>0.005625</td>\n",
       "      <td>[]</td>\n",
       "      <td>[]</td>\n",
       "      <td>NaN</td>\n",
       "      <td>...</td>\n",
       "      <td>95.0</td>\n",
       "      <td>[]</td>\n",
       "      <td>Released</td>\n",
       "      <td>NaN</td>\n",
       "      <td>War Stories Our Mother Never Told Us</td>\n",
       "      <td>0.0</td>\n",
       "      <td>0.0</td>\n",
       "      <td>[]</td>\n",
       "      <td>[]</td>\n",
       "      <td>0.0</td>\n",
       "    </tr>\n",
       "    <tr>\n",
       "      <th>734</th>\n",
       "      <td>NaN</td>\n",
       "      <td>0</td>\n",
       "      <td>[]</td>\n",
       "      <td>215107</td>\n",
       "      <td>en</td>\n",
       "      <td>Vermont is for Lovers is an independently prod...</td>\n",
       "      <td>0.750000</td>\n",
       "      <td>[]</td>\n",
       "      <td>[]</td>\n",
       "      <td>NaN</td>\n",
       "      <td>...</td>\n",
       "      <td>88.0</td>\n",
       "      <td>[]</td>\n",
       "      <td>Released</td>\n",
       "      <td>NaN</td>\n",
       "      <td>Vermont Is for Lovers</td>\n",
       "      <td>0.0</td>\n",
       "      <td>0.0</td>\n",
       "      <td>['George Thrush', 'Marya Cohn', \"Ann O'Brien\"]</td>\n",
       "      <td>[\"John O'Brien\"]</td>\n",
       "      <td>0.0</td>\n",
       "    </tr>\n",
       "    <tr>\n",
       "      <th>3459</th>\n",
       "      <td>NaN</td>\n",
       "      <td>0</td>\n",
       "      <td>[{'id': 18, 'name': 'Drama'}]</td>\n",
       "      <td>94214</td>\n",
       "      <td>en</td>\n",
       "      <td>Jails, Hospitals &amp;amp; Hip-Hop is a cinematic ...</td>\n",
       "      <td>0.009057</td>\n",
       "      <td>[]</td>\n",
       "      <td>[]</td>\n",
       "      <td>NaN</td>\n",
       "      <td>...</td>\n",
       "      <td>90.0</td>\n",
       "      <td>[]</td>\n",
       "      <td>NaN</td>\n",
       "      <td>three worlds / two million voices / one genera...</td>\n",
       "      <td>Jails, Hospitals &amp; Hip-Hop</td>\n",
       "      <td>0.0</td>\n",
       "      <td>0.0</td>\n",
       "      <td>[]</td>\n",
       "      <td>[]</td>\n",
       "      <td>0.0</td>\n",
       "    </tr>\n",
       "    <tr>\n",
       "      <th>3627</th>\n",
       "      <td>NaN</td>\n",
       "      <td>0</td>\n",
       "      <td>[]</td>\n",
       "      <td>207731</td>\n",
       "      <td>en</td>\n",
       "      <td>Tommy, a talented Puerto Rican painter living ...</td>\n",
       "      <td>0.035352</td>\n",
       "      <td>[]</td>\n",
       "      <td>[]</td>\n",
       "      <td>NaN</td>\n",
       "      <td>...</td>\n",
       "      <td>105.0</td>\n",
       "      <td>[]</td>\n",
       "      <td>Released</td>\n",
       "      <td>NaN</td>\n",
       "      <td>Boricua's Bond</td>\n",
       "      <td>2.0</td>\n",
       "      <td>1.0</td>\n",
       "      <td>[]</td>\n",
       "      <td>['Val Lik']</td>\n",
       "      <td>0.0</td>\n",
       "    </tr>\n",
       "    <tr>\n",
       "      <th>5878</th>\n",
       "      <td>NaN</td>\n",
       "      <td>0</td>\n",
       "      <td>[{'id': 18, 'name': 'Drama'}, {'id': 10749, 'n...</td>\n",
       "      <td>99885</td>\n",
       "      <td>en</td>\n",
       "      <td>Four friends fight an insane man's crusade to ...</td>\n",
       "      <td>0.001181</td>\n",
       "      <td>[]</td>\n",
       "      <td>[]</td>\n",
       "      <td>NaN</td>\n",
       "      <td>...</td>\n",
       "      <td>87.0</td>\n",
       "      <td>[]</td>\n",
       "      <td>Released</td>\n",
       "      <td>His Judgement Cometh...</td>\n",
       "      <td>Divine Intervention</td>\n",
       "      <td>0.0</td>\n",
       "      <td>0.0</td>\n",
       "      <td>[]</td>\n",
       "      <td>[]</td>\n",
       "      <td>0.0</td>\n",
       "    </tr>\n",
       "    <tr>\n",
       "      <th>...</th>\n",
       "      <td>...</td>\n",
       "      <td>...</td>\n",
       "      <td>...</td>\n",
       "      <td>...</td>\n",
       "      <td>...</td>\n",
       "      <td>...</td>\n",
       "      <td>...</td>\n",
       "      <td>...</td>\n",
       "      <td>...</td>\n",
       "      <td>...</td>\n",
       "      <td>...</td>\n",
       "      <td>...</td>\n",
       "      <td>...</td>\n",
       "      <td>...</td>\n",
       "      <td>...</td>\n",
       "      <td>...</td>\n",
       "      <td>...</td>\n",
       "      <td>...</td>\n",
       "      <td>...</td>\n",
       "      <td>...</td>\n",
       "      <td>...</td>\n",
       "    </tr>\n",
       "    <tr>\n",
       "      <th>45115</th>\n",
       "      <td>NaN</td>\n",
       "      <td>0</td>\n",
       "      <td>[]</td>\n",
       "      <td>438910</td>\n",
       "      <td>ru</td>\n",
       "      <td>Engineering Red - 1993  Dir: Andrey I. Y. Petr...</td>\n",
       "      <td>0.001586</td>\n",
       "      <td>[]</td>\n",
       "      <td>[]</td>\n",
       "      <td>NaN</td>\n",
       "      <td>...</td>\n",
       "      <td>76.0</td>\n",
       "      <td>[]</td>\n",
       "      <td>Released</td>\n",
       "      <td>NaN</td>\n",
       "      <td>Engineering Red</td>\n",
       "      <td>6.0</td>\n",
       "      <td>2.0</td>\n",
       "      <td>[]</td>\n",
       "      <td>[]</td>\n",
       "      <td>0.0</td>\n",
       "    </tr>\n",
       "    <tr>\n",
       "      <th>45170</th>\n",
       "      <td>NaN</td>\n",
       "      <td>0</td>\n",
       "      <td>[{'id': 9648, 'name': 'Mystery'}, {'id': 878, ...</td>\n",
       "      <td>433711</td>\n",
       "      <td>en</td>\n",
       "      <td>In a no holds barred documentary, acclaimed jo...</td>\n",
       "      <td>0.000220</td>\n",
       "      <td>[]</td>\n",
       "      <td>[]</td>\n",
       "      <td>NaN</td>\n",
       "      <td>...</td>\n",
       "      <td>74.0</td>\n",
       "      <td>[{'iso_639_1': 'en', 'name': 'English'}]</td>\n",
       "      <td>Released</td>\n",
       "      <td>NaN</td>\n",
       "      <td>All Superheroes Must Die 2: The Last Superhero</td>\n",
       "      <td>4.0</td>\n",
       "      <td>1.0</td>\n",
       "      <td>['Tallay Wickham', 'Jason Trost']</td>\n",
       "      <td>['Jason Trost']</td>\n",
       "      <td>0.0</td>\n",
       "    </tr>\n",
       "    <tr>\n",
       "      <th>45304</th>\n",
       "      <td>NaN</td>\n",
       "      <td>0</td>\n",
       "      <td>[]</td>\n",
       "      <td>335251</td>\n",
       "      <td>en</td>\n",
       "      <td>An exploration of the musical and social origi...</td>\n",
       "      <td>0.000000</td>\n",
       "      <td>[]</td>\n",
       "      <td>[]</td>\n",
       "      <td>NaN</td>\n",
       "      <td>...</td>\n",
       "      <td>0.0</td>\n",
       "      <td>[]</td>\n",
       "      <td>Released</td>\n",
       "      <td>NaN</td>\n",
       "      <td>The Land Where the Blues Began</td>\n",
       "      <td>0.0</td>\n",
       "      <td>0.0</td>\n",
       "      <td>[]</td>\n",
       "      <td>[]</td>\n",
       "      <td>0.0</td>\n",
       "    </tr>\n",
       "    <tr>\n",
       "      <th>45376</th>\n",
       "      <td>NaN</td>\n",
       "      <td>0</td>\n",
       "      <td>[{'id': 18, 'name': 'Drama'}, {'id': 80, 'name...</td>\n",
       "      <td>449131</td>\n",
       "      <td>ru</td>\n",
       "      <td>NaN</td>\n",
       "      <td>0.008903</td>\n",
       "      <td>[]</td>\n",
       "      <td>[{'iso_3166_1': 'RU', 'name': 'Russia'}]</td>\n",
       "      <td>NaN</td>\n",
       "      <td>...</td>\n",
       "      <td>NaN</td>\n",
       "      <td>[]</td>\n",
       "      <td>Released</td>\n",
       "      <td>NaN</td>\n",
       "      <td>Aprel</td>\n",
       "      <td>6.0</td>\n",
       "      <td>1.0</td>\n",
       "      <td>['Evgeniy Stychkin', 'Denis Burgazliev', 'Alek...</td>\n",
       "      <td>['Konstantin Murzenko']</td>\n",
       "      <td>0.0</td>\n",
       "    </tr>\n",
       "    <tr>\n",
       "      <th>45427</th>\n",
       "      <td>NaN</td>\n",
       "      <td>0</td>\n",
       "      <td>[{'id': 18, 'name': 'Drama'}, {'id': 10751, 'n...</td>\n",
       "      <td>439050</td>\n",
       "      <td>fa</td>\n",
       "      <td>Rising and falling between a man and woman.</td>\n",
       "      <td>0.072051</td>\n",
       "      <td>[]</td>\n",
       "      <td>[{'iso_3166_1': 'IR', 'name': 'Iran'}]</td>\n",
       "      <td>NaN</td>\n",
       "      <td>...</td>\n",
       "      <td>90.0</td>\n",
       "      <td>[{'iso_639_1': 'fa', 'name': 'فارسی'}]</td>\n",
       "      <td>Released</td>\n",
       "      <td>Rising and falling between a man and woman</td>\n",
       "      <td>Subdue</td>\n",
       "      <td>4.0</td>\n",
       "      <td>1.0</td>\n",
       "      <td>['Leila Hatami', 'Kourosh Tahami', 'Elham Korda']</td>\n",
       "      <td>['Hamid Nematollah']</td>\n",
       "      <td>0.0</td>\n",
       "    </tr>\n",
       "  </tbody>\n",
       "</table>\n",
       "<p>87 rows × 21 columns</p>\n",
       "</div>"
      ],
      "text/plain": [
       "      belongs_to_collection  budget  \\\n",
       "711                     NaN       0   \n",
       "734                     NaN       0   \n",
       "3459                    NaN       0   \n",
       "3627                    NaN       0   \n",
       "5878                    NaN       0   \n",
       "...                     ...     ...   \n",
       "45115                   NaN       0   \n",
       "45170                   NaN       0   \n",
       "45304                   NaN       0   \n",
       "45376                   NaN       0   \n",
       "45427                   NaN       0   \n",
       "\n",
       "                                                  genres      id  \\\n",
       "711                                                   []  365371   \n",
       "734                                                   []  215107   \n",
       "3459                       [{'id': 18, 'name': 'Drama'}]   94214   \n",
       "3627                                                  []  207731   \n",
       "5878   [{'id': 18, 'name': 'Drama'}, {'id': 10749, 'n...   99885   \n",
       "...                                                  ...     ...   \n",
       "45115                                                 []  438910   \n",
       "45170  [{'id': 9648, 'name': 'Mystery'}, {'id': 878, ...  433711   \n",
       "45304                                                 []  335251   \n",
       "45376  [{'id': 18, 'name': 'Drama'}, {'id': 80, 'name...  449131   \n",
       "45427  [{'id': 18, 'name': 'Drama'}, {'id': 10751, 'n...  439050   \n",
       "\n",
       "      original_language                                           overview  \\\n",
       "711                  en  Seven New Zealand women speak about their live...   \n",
       "734                  en  Vermont is for Lovers is an independently prod...   \n",
       "3459                 en  Jails, Hospitals &amp; Hip-Hop is a cinematic ...   \n",
       "3627                 en  Tommy, a talented Puerto Rican painter living ...   \n",
       "5878                 en  Four friends fight an insane man's crusade to ...   \n",
       "...                 ...                                                ...   \n",
       "45115                ru  Engineering Red - 1993  Dir: Andrey I. Y. Petr...   \n",
       "45170                en  In a no holds barred documentary, acclaimed jo...   \n",
       "45304                en  An exploration of the musical and social origi...   \n",
       "45376                ru                                                NaN   \n",
       "45427                fa        Rising and falling between a man and woman.   \n",
       "\n",
       "       popularity production_companies  \\\n",
       "711      0.005625                   []   \n",
       "734      0.750000                   []   \n",
       "3459     0.009057                   []   \n",
       "3627     0.035352                   []   \n",
       "5878     0.001181                   []   \n",
       "...           ...                  ...   \n",
       "45115    0.001586                   []   \n",
       "45170    0.000220                   []   \n",
       "45304    0.000000                   []   \n",
       "45376    0.008903                   []   \n",
       "45427    0.072051                   []   \n",
       "\n",
       "                           production_countries release_date  ...  runtime  \\\n",
       "711                                          []          NaN  ...     95.0   \n",
       "734                                          []          NaN  ...     88.0   \n",
       "3459                                         []          NaN  ...     90.0   \n",
       "3627                                         []          NaN  ...    105.0   \n",
       "5878                                         []          NaN  ...     87.0   \n",
       "...                                         ...          ...  ...      ...   \n",
       "45115                                        []          NaN  ...     76.0   \n",
       "45170                                        []          NaN  ...     74.0   \n",
       "45304                                        []          NaN  ...      0.0   \n",
       "45376  [{'iso_3166_1': 'RU', 'name': 'Russia'}]          NaN  ...      NaN   \n",
       "45427    [{'iso_3166_1': 'IR', 'name': 'Iran'}]          NaN  ...     90.0   \n",
       "\n",
       "                               spoken_languages    status  \\\n",
       "711                                          []  Released   \n",
       "734                                          []  Released   \n",
       "3459                                         []       NaN   \n",
       "3627                                         []  Released   \n",
       "5878                                         []  Released   \n",
       "...                                         ...       ...   \n",
       "45115                                        []  Released   \n",
       "45170  [{'iso_639_1': 'en', 'name': 'English'}]  Released   \n",
       "45304                                        []  Released   \n",
       "45376                                        []  Released   \n",
       "45427    [{'iso_639_1': 'fa', 'name': 'فارسی'}]  Released   \n",
       "\n",
       "                                                 tagline  \\\n",
       "711                                                  NaN   \n",
       "734                                                  NaN   \n",
       "3459   three worlds / two million voices / one genera...   \n",
       "3627                                                 NaN   \n",
       "5878                             His Judgement Cometh...   \n",
       "...                                                  ...   \n",
       "45115                                                NaN   \n",
       "45170                                                NaN   \n",
       "45304                                                NaN   \n",
       "45376                                                NaN   \n",
       "45427         Rising and falling between a man and woman   \n",
       "\n",
       "                                                title vote_average  \\\n",
       "711              War Stories Our Mother Never Told Us          0.0   \n",
       "734                             Vermont Is for Lovers          0.0   \n",
       "3459                       Jails, Hospitals & Hip-Hop          0.0   \n",
       "3627                                   Boricua's Bond          2.0   \n",
       "5878                              Divine Intervention          0.0   \n",
       "...                                               ...          ...   \n",
       "45115                                 Engineering Red          6.0   \n",
       "45170  All Superheroes Must Die 2: The Last Superhero          4.0   \n",
       "45304                  The Land Where the Blues Began          0.0   \n",
       "45376                                           Aprel          6.0   \n",
       "45427                                          Subdue          4.0   \n",
       "\n",
       "       vote_count                                    nombres_actores  \\\n",
       "711           0.0                                                 []   \n",
       "734           0.0     ['George Thrush', 'Marya Cohn', \"Ann O'Brien\"]   \n",
       "3459          0.0                                                 []   \n",
       "3627          1.0                                                 []   \n",
       "5878          0.0                                                 []   \n",
       "...           ...                                                ...   \n",
       "45115         2.0                                                 []   \n",
       "45170         1.0                  ['Tallay Wickham', 'Jason Trost']   \n",
       "45304         0.0                                                 []   \n",
       "45376         1.0  ['Evgeniy Stychkin', 'Denis Burgazliev', 'Alek...   \n",
       "45427         1.0  ['Leila Hatami', 'Kourosh Tahami', 'Elham Korda']   \n",
       "\n",
       "            nombres_directores return  \n",
       "711                         []    0.0  \n",
       "734           [\"John O'Brien\"]    0.0  \n",
       "3459                        []    0.0  \n",
       "3627               ['Val Lik']    0.0  \n",
       "5878                        []    0.0  \n",
       "...                        ...    ...  \n",
       "45115                       []    0.0  \n",
       "45170          ['Jason Trost']    0.0  \n",
       "45304                       []    0.0  \n",
       "45376  ['Konstantin Murzenko']    0.0  \n",
       "45427     ['Hamid Nematollah']    0.0  \n",
       "\n",
       "[87 rows x 21 columns]"
      ]
     },
     "execution_count": 36,
     "metadata": {},
     "output_type": "execute_result"
    }
   ],
   "source": [
    "data_completa[data_completa[\"release_date\"].isna()]"
   ]
  },
  {
   "attachments": {},
   "cell_type": "markdown",
   "metadata": {},
   "source": [
    "Eliminamos los registros."
   ]
  },
  {
   "cell_type": "code",
   "execution_count": 37,
   "metadata": {},
   "outputs": [],
   "source": [
    "data_completa.dropna(subset=\"release_date\",inplace=True)"
   ]
  },
  {
   "cell_type": "code",
   "execution_count": 38,
   "metadata": {},
   "outputs": [],
   "source": [
    "data_completa.reset_index(drop=True,inplace=True)"
   ]
  },
  {
   "attachments": {},
   "cell_type": "markdown",
   "metadata": {},
   "source": [
    "De haber fechas, deberán tener el formato AAAA-mm-dd, además deberán crear la columna release_year donde extraerán el año de la fecha de estreno."
   ]
  },
  {
   "cell_type": "code",
   "execution_count": 39,
   "metadata": {},
   "outputs": [],
   "source": [
    "data_completa[\"release_date\"] = pd.to_datetime(data_completa[\"release_date\"],format=\"%Y-%m-%d\",errors=\"coerce\")"
   ]
  },
  {
   "attachments": {},
   "cell_type": "markdown",
   "metadata": {},
   "source": [
    "Aunque no lo pide ya que los la informacion sera solicitada en base al dia y el mes creo columnas para esto"
   ]
  },
  {
   "cell_type": "code",
   "execution_count": 40,
   "metadata": {},
   "outputs": [],
   "source": [
    "lista_month = []\n",
    "for elemento in data_completa[\"release_date\"]:\n",
    "    lista_month.append((elemento.month))\n",
    "data_completa[\"release_mont\"] = lista_month"
   ]
  },
  {
   "cell_type": "code",
   "execution_count": 41,
   "metadata": {},
   "outputs": [],
   "source": [
    "data_completa[\"release_day\"] = data_completa[\"release_date\"].apply(lambda x : x.day_name())"
   ]
  },
  {
   "cell_type": "code",
   "execution_count": 42,
   "metadata": {},
   "outputs": [],
   "source": [
    "data_completa[\"release_year\"] = data_completa[\"release_date\"].apply(lambda x : x.year)\n"
   ]
  },
  {
   "attachments": {},
   "cell_type": "markdown",
   "metadata": {},
   "source": [
    "Utilizamos las funciones creadas para desaplanar algunas columnas.Comenzamos con las colecciones\n",
    "En el analisis exploratorio notamos que habia valores erroneos de tipo numerico pero la funcion lo resolvera retornando valores NaN"
   ]
  },
  {
   "cell_type": "code",
   "execution_count": 43,
   "metadata": {},
   "outputs": [
    {
     "data": {
      "text/plain": [
       "0                  Toy Story Collection\n",
       "1                                   NaN\n",
       "2             Grumpy Old Men Collection\n",
       "3                                   NaN\n",
       "4        Father of the Bride Collection\n",
       "                      ...              \n",
       "45340                               NaN\n",
       "45341                               NaN\n",
       "45342                               NaN\n",
       "45343                               NaN\n",
       "45344                               NaN\n",
       "Name: collection, Length: 45345, dtype: object"
      ]
     },
     "execution_count": 43,
     "metadata": {},
     "output_type": "execute_result"
    }
   ],
   "source": [
    "data_completa[\"collection\"] = data_completa[\"belongs_to_collection\"].apply(obtener_valor)\n",
    "data_completa[\"collection\"]"
   ]
  },
  {
   "attachments": {},
   "cell_type": "markdown",
   "metadata": {},
   "source": [
    "Convertimos a lista la columna production companies"
   ]
  },
  {
   "cell_type": "code",
   "execution_count": 44,
   "metadata": {},
   "outputs": [
    {
     "data": {
      "text/plain": [
       "0                                [Pixar Animation Studios]\n",
       "1        [TriStar Pictures, Teitler Film, Interscope Co...\n",
       "2                           [Warner Bros., Lancaster Gate]\n",
       "3                 [Twentieth Century Fox Film Corporation]\n",
       "4             [Sandollar Productions, Touchstone Pictures]\n",
       "                               ...                        \n",
       "45340    [Westdeutscher Rundfunk (WDR), Working Title F...\n",
       "45341                                        [Sine Olivia]\n",
       "45342                            [American World Pictures]\n",
       "45343                                          [Yermoliev]\n",
       "45344                                                   []\n",
       "Name: productora, Length: 45345, dtype: object"
      ]
     },
     "execution_count": 44,
     "metadata": {},
     "output_type": "execute_result"
    }
   ],
   "source": [
    "data_completa[\"productora\"] = data_completa[\"production_companies\"].apply(convertir_a_lista)\n",
    "data_completa[\"productora\"]"
   ]
  },
  {
   "cell_type": "code",
   "execution_count": 45,
   "metadata": {},
   "outputs": [
    {
     "data": {
      "text/plain": [
       "belongs_to_collection    {'id': 463068, 'name': 'Täällä Pohjantähden al...\n",
       "budget                                                             6153120\n",
       "genres                   [{'id': 18, 'name': 'Drama'}, {'id': 36, 'name...\n",
       "id                                                                   41142\n",
       "original_language                                                       en\n",
       "overview                 Perustuu Väinö Linnan samannimiseen romaanitri...\n",
       "popularity                                                        0.320384\n",
       "production_companies                                                    []\n",
       "production_countries             [{'iso_3166_1': 'FI', 'name': 'Finland'}]\n",
       "release_date                                           2009-12-04 00:00:00\n",
       "revenue                                                                0.0\n",
       "runtime                                                              193.0\n",
       "spoken_languages                    [{'iso_639_1': 'fi', 'name': 'suomi'}]\n",
       "status                                                            Released\n",
       "tagline                                                                NaN\n",
       "title                                                 Under the North Star\n",
       "vote_average                                                           6.8\n",
       "vote_count                                                             6.0\n",
       "nombres_actores          ['Ilkka Koivula', 'Vera Kiiskinen', 'Risto Tuo...\n",
       "nombres_directores                                      ['Timo Koivusalo']\n",
       "return                                                                 0.0\n",
       "release_mont                                                            12\n",
       "release_day                                                         Friday\n",
       "release_year                                                          2009\n",
       "collection                       Täällä Pohjantähden alla (Timo Koivusalo)\n",
       "productora                                                              []\n",
       "Name: 15358, dtype: object"
      ]
     },
     "execution_count": 45,
     "metadata": {},
     "output_type": "execute_result"
    }
   ],
   "source": [
    "data_completa.iloc[15358]"
   ]
  },
  {
   "attachments": {},
   "cell_type": "markdown",
   "metadata": {},
   "source": [
    "Creamos una funcion que recibe como parametro un mes en idioma Español. Debe devolver la cantidad de películas que fueron estrenadas en el mes consultado en la totalidad del dataset."
   ]
  },
  {
   "cell_type": "code",
   "execution_count": 47,
   "metadata": {},
   "outputs": [],
   "source": [
    "def  cantidad_filmaciones_mes(mes):\n",
    "    mes = mes.capitalize()\n",
    "    meses = [\"Enero\",\"Febrero\",\"Marzo\",\"Abril\",\"Mayo\",\"Junio\",\"Julio\",\"Agosto\",\"Septiembre\",\"Octubre\",\"Noviembre\",\"Diciembre\"]\n",
    "    for i,elemento in enumerate(meses):\n",
    "        if mes == elemento:\n",
    "            mont = i+1\n",
    "            break\n",
    "    cantidad = (data_completa[data_completa[\"release_mont\"] == mont]).shape[0]\n",
    "    return f\"{cantidad},cantidad de películas que fueron estrenadas en el mes de {mes}\""
   ]
  },
  {
   "cell_type": "code",
   "execution_count": 48,
   "metadata": {},
   "outputs": [
    {
     "data": {
      "text/plain": [
       "'5909,cantidad de películas que fueron estrenadas en el mes de Enero'"
      ]
     },
     "execution_count": 48,
     "metadata": {},
     "output_type": "execute_result"
    }
   ],
   "source": [
    "cantidad_filmaciones_mes(\"enero\")"
   ]
  },
  {
   "attachments": {},
   "cell_type": "markdown",
   "metadata": {},
   "source": [
    "Creamos una funcion que recibe como parametro un dia en idioma Español. Debe devolver la cantidad de películas que fueron estrenadas en el dia consultado en la totalidad del dataset."
   ]
  },
  {
   "cell_type": "code",
   "execution_count": 50,
   "metadata": {},
   "outputs": [],
   "source": [
    "def cantidad_filmaciones_dia(dia):\n",
    "   dia = dia.capitalize()\n",
    "   if dia == \"Lunes\":\n",
    "      day = \"Monday\"\n",
    "   elif dia == \"Martes\":\n",
    "      day = \"Tuesday\"\n",
    "   elif dia == \"Miercoles\":\n",
    "      day = \"Wednesday\"\n",
    "   elif dia == \"Jueves\":\n",
    "      day = \"Thursday\"\n",
    "   elif dia == \"Viernes\":\n",
    "      day = \"Friday\"\n",
    "   elif dia == \"Sabado\":\n",
    "      day = \"Saturday\"\n",
    "   else:\n",
    "      day = \"Sunday\"\n",
    "   cantidad = (data_completa[data_completa[\"release_day\"] == day]).shape[0]\n",
    "   return f\"{cantidad},cantidad de películas que fueron estrenadas en los dias {dia}\""
   ]
  },
  {
   "cell_type": "code",
   "execution_count": 51,
   "metadata": {},
   "outputs": [
    {
     "data": {
      "text/plain": [
       "'7027,cantidad de películas que fueron estrenadas en los dias Miercoles'"
      ]
     },
     "execution_count": 51,
     "metadata": {},
     "output_type": "execute_result"
    }
   ],
   "source": [
    "cantidad_filmaciones_dia(\"miercoles\")"
   ]
  },
  {
   "attachments": {},
   "cell_type": "markdown",
   "metadata": {},
   "source": [
    "Creamos una funcion que recibe como parametro un titulo de filmacion. Debe devolver el titutlo , el año del estreno y el score.Si varias peliculas tienen el mismo nombre retornamos la mas actual"
   ]
  },
  {
   "cell_type": "code",
   "execution_count": 197,
   "metadata": {},
   "outputs": [],
   "source": [
    "def score_titulo( titulo_de_la_filmación ):\n",
    "   try:\n",
    "      dataframe = (data_completa[data_completa[\"title\"] == titulo_de_la_filmación])\n",
    "      dataframe = dataframe.sort_values(\"release_year\", ascending=False)\n",
    "      ano = dataframe[\"release_year\"].iloc[0]\n",
    "      popularidad = dataframe[\"popularity\"].iloc[0]\n",
    "      return f\"La pelicula {titulo_de_la_filmación}, fue estrenada en el año {ano} con una popularidad de {popularidad}\"\n",
    "   except:\n",
    "      return f\"Lamentamos no contar con informacion sobre la pelicula {titulo_de_la_filmación}\""
   ]
  },
  {
   "cell_type": "code",
   "execution_count": 241,
   "metadata": {},
   "outputs": [
    {
     "data": {
      "text/plain": [
       "{'titulo': 'Jumanji', 'anio': 1995, 'popularidad': 17.015539}"
      ]
     },
     "execution_count": 241,
     "metadata": {},
     "output_type": "execute_result"
    }
   ],
   "source": [
    "score_titulo(\"Jumanji\")"
   ]
  },
  {
   "attachments": {},
   "cell_type": "markdown",
   "metadata": {},
   "source": [
    "Creamos una funcion que recibe como parametro un titulo de filmacion. Debe devolver el titutlo ,la cantidad de votos y el valor promedio de votaciones. La misma variable deberá de contar con al menos 2000 valoraciones, caso contrario, debemos contar con un mensaje avisando que no cumple esta condición y que por ende, no se devuelve ningun valor.Si hay varias peliculas con el mismo nombre retornamos los valores de la mas actual"
   ]
  },
  {
   "cell_type": "code",
   "execution_count": null,
   "metadata": {},
   "outputs": [],
   "source": [
    "def votos_titulo( titulo:str):\n",
    "   '''Ingrese un nombre de pelicula y podras ver la cantidad de valoraciones que tienen y el puntaje medio de las mismas'''\n",
    "   dataframe = data[data[\"title\"] ==  titulo]\n",
    "   if dataframe.shape[0] == 0:\n",
    "      return {\"respuesta\":f\"Hemos intentado encontrar informacion sobre la pelicula {titulo},pero no lo hemos logrado.Le sugerimos pruebe con esta pelicula, Jumanji\"}\n",
    "   if dataframe.shape[0] > 1:\n",
    "      dataframe = dataframe.sort_values(\"release_year\", ascending=False)\n",
    "   anio = dataframe[\"release_year\"].iloc[0]\n",
    "   valoraciones = dataframe[\"vote_count\"].iloc[0]\n",
    "   promedio = dataframe[\"vote_average\"].iloc[0]\n",
    "   if valoraciones>=2000:\n",
    "    return {'titulo': titulo, 'anio':anio , 'voto_total':valoraciones, 'voto_promedio':promedio}\n",
    "   else:\n",
    "    return {\"respuesta\": f\"La película {titulo} fue estrenada en el año {anio}. La misma cuenta con un total de {valoraciones} valoraciones, con un promedio de {promedio}\"}"
   ]
  },
  {
   "cell_type": "code",
   "execution_count": 230,
   "metadata": {},
   "outputs": [
    {
     "data": {
      "text/plain": [
       "{'titulo': 'Jumanji', 'anio': 1995, 'voto_total': 2413.0, 'voto_promedio': 6.9}"
      ]
     },
     "execution_count": 230,
     "metadata": {},
     "output_type": "execute_result"
    }
   ],
   "source": [
    "votos_titulo(\"Jumanji\")"
   ]
  },
  {
   "attachments": {},
   "cell_type": "markdown",
   "metadata": {},
   "source": [
    "Se ingresa el nombre de un actor que se encuentre dentro de un dataset debiendo devolver el éxito del mismo medido a través del retorno. Además, la cantidad de películas que en las que ha participado y el promedio de retorno.El retono nos indica cuanto dinero ha logrado vender la pelicula en proporcion a su inversion y si la media de estas es menor a 1 el actor ha generado en terminos totales,perdidas."
   ]
  },
  {
   "attachments": {},
   "cell_type": "markdown",
   "metadata": {},
   "source": [
    "Como la definición no deberá considerar directores hacemos un funcion que elimine los directores del grupo de actores.Primero mostramos el caso de Tom Hanks un actor reconocido que tiene 3 peliculas como director y actor a la vez."
   ]
  },
  {
   "cell_type": "code",
   "execution_count": 205,
   "metadata": {},
   "outputs": [
    {
     "data": {
      "text/plain": [
       "(3, 27)"
      ]
     },
     "execution_count": 205,
     "metadata": {},
     "output_type": "execute_result"
    }
   ],
   "source": [
    "data_completa[data_completa['director_names'].apply(lambda x: \"Tom Hanks\"  in x)].shape"
   ]
  },
  {
   "cell_type": "code",
   "execution_count": 156,
   "metadata": {},
   "outputs": [],
   "source": [
    "def eliminar_directores(row):\n",
    "    nombres_directores = eval(row['nombres_directores'])\n",
    "    nombres_actores = eval(row['nombres_actores'])\n",
    "    # Verificar si las columnas no están vacías y tienen formato válido\n",
    "    if nombres_directores and nombres_actores:\n",
    "        nuevos_actores = []\n",
    "        for actor in nombres_actores:\n",
    "            if actor not in nombres_directores:\n",
    "                nuevos_actores.append(actor)\n",
    "        row['nombres_actores'] = nuevos_actores\n",
    "    return row"
   ]
  },
  {
   "cell_type": "code",
   "execution_count": 157,
   "metadata": {},
   "outputs": [],
   "source": [
    "data_completa = data_completa.apply(eliminar_directores, axis=1)"
   ]
  },
  {
   "cell_type": "code",
   "execution_count": 210,
   "metadata": {},
   "outputs": [],
   "source": [
    "def get_actor(nombre_actor):\n",
    "    #Utilizamos el metodo explode para ampliar los registros,uno para cada actor de la lista y luego una funcion lambda para crear una mascara para registros donde aparesca el nombre del actor\n",
    "    dataframe = data_completa[data_completa['actor_names'].apply(lambda x: nombre_actor in x)]\n",
    "    cantidad = dataframe.shape[0]\n",
    "    #Utilizamos una mascara para que las peliculas que tienen retorno 0 no generen ruido en el promedio\n",
    "    dataframe = dataframe[dataframe[\"return\"] != 0 ]\n",
    "    retorno = round((dataframe[\"return\"].sum()),2)\n",
    "    if retorno == 0:\n",
    "        return f\"El actor {nombre_actor} ha participado de {cantidad} filmaciones, pero no tenemos los datos necesarios para calcular su exito\"\n",
    "    promedio = round((retorno/cantidad),2)\n",
    "    return f\"El actor {nombre_actor} ha participado de {cantidad} filmaciones, el mismo ha conseguido un retorno de {retorno} con un promedio de {promedio} por filmación\""
   ]
  },
  {
   "cell_type": "code",
   "execution_count": 212,
   "metadata": {},
   "outputs": [
    {
     "data": {
      "text/plain": [
       "'El actor Tom Hanks ha participado de 68 filmaciones, el mismo ha conseguido un retorno de 177.64 con un promedio de 2.61 por filmación'"
      ]
     },
     "execution_count": 212,
     "metadata": {},
     "output_type": "execute_result"
    }
   ],
   "source": [
    "get_actor(\"Tom Hanks\")"
   ]
  },
  {
   "attachments": {},
   "cell_type": "markdown",
   "metadata": {},
   "source": [
    "def get_director( nombre_director ): Se ingresa el nombre de un director que se encuentre dentro de un dataset debiendo devolver el éxito del mismo medido a través del retorno. Además, deberá devolver el nombre de cada película con la fecha de lanzamiento, retorno individual, costo y ganancia de la misma.Como el objetivo es conocer los rendimientos de las peliculas no tomaremos en cuenta los registros que no tienen retorno."
   ]
  },
  {
   "cell_type": "code",
   "execution_count": 93,
   "metadata": {},
   "outputs": [],
   "source": [
    "def get_director(nombre_director):\n",
    "       dataframe = data[data['director_names'].apply(lambda x: nombre_director in x)]\n",
    "       if dataframe.shape[0] == 0:\n",
    "             return f\"Hemos intentado encontrar informacion sobre las peliculas dirigidas por {nombre_director},pero no lo hemos logrado.Le sugerimos pruebe con este nombre John Lasseter\"\n",
    "       dataframe= dataframe[dataframe[\"return\"] != 0 ]\n",
    "       retorno = round((dataframe[\"return\"].sum()),2)\n",
    "       nombre = dataframe[\"title\"]\n",
    "       fecha = dataframe[\"release_date\"]\n",
    "       retorno_ind = dataframe[\"return\"]\n",
    "       costo = dataframe[\"budget\"]\n",
    "       ganancia = dataframe[\"revenue\"]\n",
    "       diccionario = {\"nombres\" : nombre.to_list(),\n",
    "                   \"fecha_de_lanzamiento\" : fecha.to_list(),\n",
    "                   \"retorno_de_la_pelicula\" : retorno_ind.to_list(),\n",
    "                    \"ganancia_bruta_de_la pelicula\" : ganancia.to_list(),\n",
    "                    \"inversion\" : costo.to_list()\n",
    "                    }\n",
    "       return f\"El retorno total generado por la direccion de {nombre_director} es de {retorno} y fue logrado gracias a las siguientes peliculas,te brindamos algunos datos para que conozcas mas de ellas {diccionario}\"   \n"
   ]
  },
  {
   "cell_type": "code",
   "execution_count": 208,
   "metadata": {},
   "outputs": [
    {
     "data": {
      "text/plain": [
       "{'director': 'John Lasseter',\n",
       " 'retorno_total_director': 27.65,\n",
       " 'peliculas': ['Toy Story', \"A Bug's Life\", 'Toy Story 2', 'Cars', 'Cars 2'],\n",
       " 'anio': ['1995-10-30',\n",
       "  '1998-11-25',\n",
       "  '1999-10-30',\n",
       "  '2006-06-08',\n",
       "  '2011-06-11'],\n",
       " 'retorno_pelicula': [12.4518011,\n",
       "  3.027157158333333,\n",
       "  5.526298544444445,\n",
       "  3.849859575,\n",
       "  2.79926198],\n",
       " 'budget_pelicula': [30000000, 120000000, 90000000, 120000000, 200000000],\n",
       " 'revenue_pelicula': [373554033.0,\n",
       "  363258859.0,\n",
       "  497366869.0,\n",
       "  461983149.0,\n",
       "  559852396.0]}"
      ]
     },
     "execution_count": 208,
     "metadata": {},
     "output_type": "execute_result"
    }
   ],
   "source": [
    "get_director(\"John Lasseter\")"
   ]
  },
  {
   "attachments": {},
   "cell_type": "markdown",
   "metadata": {},
   "source": [
    "Reescribimos el csv con los cambios para que pueda ser consumido desde el archivo.py y los endpoints de la API.Ademas solo dejaremos las columnas necesarias para los endpoinsts ya que es mas optimo cargar un dataframe mas pequeño."
   ]
  },
  {
   "cell_type": "code",
   "execution_count": 4,
   "metadata": {},
   "outputs": [],
   "source": [
    "import time"
   ]
  },
  {
   "cell_type": "code",
   "execution_count": 177,
   "metadata": {},
   "outputs": [],
   "source": [
    "data_completa.rename(columns = {\"release_mont\":'release_month',\n",
    "                                \"nombres_actores\":'actor_names' ,\n",
    "                                \"nombres_directores\":'director_names'},inplace = True)"
   ]
  },
  {
   "cell_type": "code",
   "execution_count": 180,
   "metadata": {},
   "outputs": [
    {
     "name": "stdout",
     "output_type": "stream",
     "text": [
      "Llevo 1.046231985092163 segundos en total.\n"
     ]
    }
   ],
   "source": [
    "start_time_total = time.time()\n",
    "data_completa_time = pd.read_csv(\"data_completa.csv\")\n",
    "total_time_total = time.time() - start_time_total\n",
    "print(\"Llevo {} segundos en total.\".format(total_time_total))"
   ]
  },
  {
   "cell_type": "code",
   "execution_count": 178,
   "metadata": {},
   "outputs": [],
   "source": [
    "data = data_completa[[\"release_day\",\"release_year\",\"release_month\",\"title\",\"popularity\",\"vote_count\",\"vote_average\",\"return\",\"budget\",\"revenue\",\"actor_names\",\"director_names\",\"release_date\"]]\n",
    "data.to_csv(\"data.csv\" ,index = False ,sep = \",\")"
   ]
  },
  {
   "cell_type": "code",
   "execution_count": 179,
   "metadata": {},
   "outputs": [
    {
     "name": "stdout",
     "output_type": "stream",
     "text": [
      "Llevo 0.5777914524078369 segundos en total.\n"
     ]
    }
   ],
   "source": [
    "start_time_total = time.time()\n",
    "data_time = pd.read_csv(\"data.csv\")\n",
    "total_time_total = time.time() - start_time_total\n",
    "print(\"Llevo {} segundos en total.\".format(total_time_total))"
   ]
  },
  {
   "cell_type": "code",
   "execution_count": 260,
   "metadata": {},
   "outputs": [
    {
     "data": {
      "text/plain": [
       "2                   Grumpier Old Men\n",
       "3                  Waiting to Exhale\n",
       "4        Father of the Bride Part II\n",
       "5                               Heat\n",
       "6                            Sabrina\n",
       "                    ...             \n",
       "45340                     Robin Hood\n",
       "45341            Century of Birthing\n",
       "45342                       Betrayal\n",
       "45343               Satan Triumphant\n",
       "45344                       Queerama\n",
       "Name: title, Length: 44832, dtype: object"
      ]
     },
     "execution_count": 260,
     "metadata": {},
     "output_type": "execute_result"
    }
   ],
   "source": [
    "data[data[\"vote_count\"]<2000][\"title\"]"
   ]
  }
 ],
 "metadata": {
  "kernelspec": {
   "display_name": "proyectoHenry-env",
   "language": "python",
   "name": "python3"
  },
  "language_info": {
   "codemirror_mode": {
    "name": "ipython",
    "version": 3
   },
   "file_extension": ".py",
   "mimetype": "text/x-python",
   "name": "python",
   "nbconvert_exporter": "python",
   "pygments_lexer": "ipython3",
   "version": "3.11.2"
  },
  "orig_nbformat": 4
 },
 "nbformat": 4,
 "nbformat_minor": 2
}
