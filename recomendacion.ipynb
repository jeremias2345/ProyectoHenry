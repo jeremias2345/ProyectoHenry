{
 "cells": [
  {
   "attachments": {},
   "cell_type": "markdown",
   "metadata": {},
   "source": [
    "En la carga del trabajo al repositorio de github tuvimos dificultades y perdimos los procesos de trabajo realizado.Por lo que describimos lo hecho en el readme."
   ]
  }
 ],
 "metadata": {
  "kernelspec": {
   "display_name": "proyecto-env",
   "language": "python",
   "name": "python3"
  },
  "language_info": {
   "name": "python",
   "version": "3.11.2"
  },
  "orig_nbformat": 4
 },
 "nbformat": 4,
 "nbformat_minor": 2
}
